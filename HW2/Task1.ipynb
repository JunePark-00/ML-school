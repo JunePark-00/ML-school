{
  "nbformat": 4,
  "nbformat_minor": 0,
  "metadata": {
    "colab": {
      "name": "Task1",
      "private_outputs": true,
      "provenance": [],
      "collapsed_sections": []
    },
    "kernelspec": {
      "name": "python3",
      "display_name": "Python 3"
    }
  },
  "cells": [
    {
      "cell_type": "code",
      "metadata": {
        "id": "9MY9Dvg_wKue"
      },
      "source": [
        "# 32191818 박주은\n",
        "import numpy as np"
      ],
      "execution_count": null,
      "outputs": []
    },
    {
      "cell_type": "code",
      "metadata": {
        "id": "8UGqDYddKfQ8"
      },
      "source": [
        "# train_x\n",
        "x = np.array([[1,0,0],[1,0,1],[1,1,0],[1,1,1]])\n",
        "\n",
        "# train_y\n",
        "y = np.array([[0],[1],[1],[0]])     "
      ],
      "execution_count": null,
      "outputs": []
    },
    {
      "cell_type": "code",
      "metadata": {
        "id": "PbYCF0_GKkiF"
      },
      "source": [
        "# sigmoid function\n",
        "def sigmoid(x):\n",
        "    return 1 / (1+np.exp(-x))\n",
        "\n",
        "# sigmoid derivative for backpropagation\n",
        "def sigmoid_derivative(x):\n",
        "    return sigmoid(x)*(1-sigmoid(x))"
      ],
      "execution_count": null,
      "outputs": []
    },
    {
      "cell_type": "code",
      "metadata": {
        "id": "_gVjBUKcKr4q"
      },
      "source": [
        "# initialize learning rate\n",
        "alpha = 0.1\n",
        "\n",
        "#initialize weights\n",
        "w1 = np.random.randn(3,2)\n",
        "w2 = np.random.randn(3,1)\n",
        "\n",
        "# initialize epochs\n",
        "epochs = 20000"
      ],
      "execution_count": null,
      "outputs": []
    },
    {
      "cell_type": "code",
      "metadata": {
        "id": "Uun_8inyKvmY"
      },
      "source": [
        "# forward function\n",
        "def forward(x,w1,w2,forcast=False):\n",
        "    a1 = np.matmul(x,w1) \n",
        "    z1 = sigmoid(a1)  \n",
        "\n",
        "    # setting bias\n",
        "    bias = np.ones((len(z1),1))\n",
        "    z1 = np.concatenate((bias, z1), axis=1)\n",
        "    a2 = np.matmul(z1,w2)\n",
        "    z2 = sigmoid(a2)\n",
        "    if forcast:\n",
        "        return z2\n",
        "    return a1, z1, a2, z2"
      ],
      "execution_count": null,
      "outputs": []
    },
    {
      "cell_type": "code",
      "metadata": {
        "id": "NyMGpskQK4e7"
      },
      "source": [
        "# backpropagation function\n",
        "def backpropagation(a2, z0, z1, z2, y):\n",
        "    d2 = z2 - y\n",
        "    delta2 = np.matmul(z1.T,d2)\n",
        "    d1 = (d2.dot(w2[1:,:].T))*sigmoid_derivative(a1)\n",
        "    delta1 = np.matmul(z0.T,d1)\n",
        "    return d2, delta1, delta2\n",
        "\n",
        "m = len(x)\n",
        "\n",
        "# start training\n",
        "for i in range(epochs):\n",
        "\n",
        "    # forward\n",
        "    a1, z1, a2, z2 = forward(x, w1, w2)\n",
        "\n",
        "    # backpropagation\n",
        "    d2, delta1, delta2 = backpropagation(a2,x,z1,z2,y)\n",
        "\n",
        "    # weight update\n",
        "    w1 -= alpha*(1/m)*delta1\n",
        "    w2 -= alpha*(1/m)*delta2\n",
        "\n",
        "    if i % 1000 == 0:\n",
        "        print(f\"iteration: {i}, error: {costs}\")\n",
        "        print(\"w1: \")\n",
        "        print(w1)\n",
        "        print(\"w2: \")\n",
        "        print(w2)\n",
        "        print(\"\\n\")"
      ],
      "execution_count": null,
      "outputs": []
    },
    {
      "cell_type": "code",
      "metadata": {
        "id": "5uWQmh--LN4T"
      },
      "source": [
        "# complete the training\n",
        "print(\"\\nTraining completed successfully.\\n\")\n",
        "\n",
        "# to make a prediction\n",
        "z3 = forward(x,w1,w2,True)\n",
        "print(\"Output: \")\n",
        "print(z3)\n",
        "print(\"\\n\")\n",
        "print(\"Final Output: \")\n",
        "print(np.round(z3))"
      ],
      "execution_count": null,
      "outputs": []
    }
  ]
}